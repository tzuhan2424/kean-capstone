{
 "cells": [
  {
   "cell_type": "code",
   "execution_count": 1,
   "metadata": {},
   "outputs": [],
   "source": [
    "import pandas as pd\n",
    "from sklearn.ensemble import RandomForestClassifier\n",
    "from sklearn.model_selection import train_test_split\n",
    "from sklearn.metrics import accuracy_score, classification_report\n",
    "from sklearn.preprocessing import StandardScaler\n",
    "from sklearn.preprocessing import LabelEncoder\n",
    "\n",
    "from common.Database import Database\n",
    "import joblib"
   ]
  },
  {
   "cell_type": "code",
   "execution_count": 2,
   "metadata": {},
   "outputs": [],
   "source": [
    "db = Database()\n",
    "# pick only one region\n",
    "query = \"\"\"\n",
    "    select * \n",
    "    FROM habsos_j\n",
    "    WHERE LATITUDE IS NOT NULL and LONGITUDE IS NOT NULL\n",
    "    and CATEGORY  is not NULL\n",
    "    and SALINITY  is not NULL\n",
    "    and WATER_TEMP is not null\n",
    "    and SAMPLE_DATETIME < '2023-01-01 00:00:00'\n",
    "    and LATITUDE BETWEEN 27.6 AND 27.95\n",
    "    and LONGITUDE BETWEEN -83.48 AND -82.11;\n",
    "    and WIND_DIR is not null \n",
    "    and WIND_SPEED is not null;\n",
    "\"\"\"\n",
    "records, columns = db.execute_query(query)\n",
    "db.close()\n",
    "df = pd.DataFrame(records, columns=columns)\n",
    "df['date'] = pd.to_datetime(df['SAMPLE_DATETIME'])\n",
    "df['month'] = df['date'].dt.month\n",
    "\n",
    "class_mapping = {\n",
    "    'not observed': 0,\n",
    "    'very low': 1,\n",
    "    'low': 2,\n",
    "    'medium': 3,\n",
    "    'high': 4\n",
    "}\n",
    "\n",
    "df['category_encoded'] = df['CATEGORY'].map(class_mapping)"
   ]
  },
  {
   "cell_type": "code",
   "execution_count": 3,
   "metadata": {},
   "outputs": [
    {
     "name": "stdout",
     "output_type": "stream",
     "text": [
      "Accuracy: 0.8060765191297824\n",
      "              precision    recall  f1-score   support\n",
      "\n",
      "not observed       0.85      0.96      0.90      2160\n",
      "    very low       0.33      0.15      0.21       220\n",
      "         low       0.37      0.19      0.25       141\n",
      "      medium       0.33      0.16      0.21       116\n",
      "        high       0.17      0.07      0.10        29\n",
      "\n",
      "    accuracy                           0.81      2666\n",
      "   macro avg       0.41      0.30      0.33      2666\n",
      "weighted avg       0.75      0.81      0.77      2666\n",
      "\n"
     ]
    }
   ],
   "source": [
    "features = ['LATITUDE', 'LONGITUDE', 'SALINITY', 'WATER_TEMP', 'WIND_DIR', 'WIND_SPEED']\n",
    "X = df[features]\n",
    "y = df['category_encoded']\n",
    "\n",
    "# Split the dataset into training and test sets\n",
    "X_train, X_test, y_train, y_test = train_test_split(X, y, test_size=0.2, random_state=42)\n",
    "\n",
    "# Standardize the features\n",
    "scaler = StandardScaler()\n",
    "X_train_scaled = scaler.fit_transform(X_train)\n",
    "X_test_scaled = scaler.transform(X_test)\n",
    "\n",
    "# Initialize the Random Forest classifier\n",
    "# 'balanced' mode uses the values of y to automatically adjust weights inversely proportional to class frequencies\n",
    "rf = RandomForestClassifier(n_estimators=1000, class_weight='balanced', random_state=42)\n",
    "\n",
    "# Fit the model on the training data\n",
    "rf.fit(X_train_scaled, y_train)\n",
    "\n",
    "# Make predictions on the test data\n",
    "y_pred = rf.predict(X_test_scaled)\n",
    "\n",
    "\n",
    "\n",
    "# Print the accuracy and classification report\n",
    "print(\"Accuracy:\", accuracy_score(y_test, y_pred))\n",
    "print(classification_report(y_test, y_pred, target_names=list(class_mapping.keys())))"
   ]
  },
  {
   "cell_type": "code",
   "execution_count": 4,
   "metadata": {},
   "outputs": [
    {
     "name": "stdout",
     "output_type": "stream",
     "text": [
      "scaler is save\n",
      "Model saved to random_forest_model-0425_region9-02.joblib\n"
     ]
    }
   ],
   "source": [
    "# Save the scaler\n",
    "scaler_filename = 'scaler-0425_region9-02.joblib'\n",
    "joblib.dump(scaler, scaler_filename)\n",
    "print(\"scaler is save\")\n",
    "# Save the model to a file\n",
    "model_filename = 'random_forest_model-0425_region9-02.joblib'\n",
    "joblib.dump(rf, model_filename)\n",
    "\n",
    "print(f\"Model saved to {model_filename}\")"
   ]
  },
  {
   "cell_type": "markdown",
   "metadata": {},
   "source": [
    "## use 2023 data to do another test"
   ]
  },
  {
   "cell_type": "code",
   "execution_count": 5,
   "metadata": {},
   "outputs": [],
   "source": [
    "model_filename = model_filename\n",
    "model = joblib.load(model_filename)\n",
    "scaler_filename = scaler_filename\n",
    "scaler = joblib.load(scaler_filename)"
   ]
  },
  {
   "cell_type": "code",
   "execution_count": 6,
   "metadata": {},
   "outputs": [],
   "source": [
    "\n",
    "db = Database()\n",
    "\n",
    "query = \"\"\"\n",
    "    select * \n",
    "    FROM habsos_j\n",
    "    WHERE LATITUDE IS NOT NULL and LONGITUDE IS NOT NULL\n",
    "    and CATEGORY  is not NULL\n",
    "    and SALINITY  is not NULL\n",
    "    and WATER_TEMP is not null\n",
    "    and SAMPLE_DATETIME > '2023-01-01 00:00:00'\n",
    "    and SAMPLE_DATETIME < '2023-12-31 23:59:59'\n",
    "    and LATITUDE BETWEEN 27.6 AND 27.95\n",
    "    and LONGITUDE BETWEEN -83.48 AND -82.11\n",
    "    and WIND_DIR is not null \n",
    "    and WIND_SPEED is not null;\n",
    "\"\"\"\n",
    "records, columns = db.execute_query(query)\n",
    "db.close()\n",
    "df = pd.DataFrame(records, columns=columns)\n",
    "df['date'] = pd.to_datetime(df['SAMPLE_DATETIME'])\n",
    "df['month'] = df['date'].dt.month\n",
    "\n",
    "class_mapping = {\n",
    "    'not observed': 0,\n",
    "    'very low': 1,\n",
    "    'low': 2,\n",
    "    'medium': 3,\n",
    "    'high': 4\n",
    "}\n",
    "\n",
    "df['category_encoded'] = df['CATEGORY'].map(class_mapping)"
   ]
  },
  {
   "cell_type": "code",
   "execution_count": 7,
   "metadata": {},
   "outputs": [
    {
     "name": "stdout",
     "output_type": "stream",
     "text": [
      "Accuracy: 0.8648648648648649\n",
      "              precision    recall  f1-score   support\n",
      "\n",
      "not observed       0.86      1.00      0.93        64\n",
      "    very low       0.00      0.00      0.00         3\n",
      "         low       0.00      0.00      0.00         3\n",
      "      medium       0.00      0.00      0.00         3\n",
      "        high       0.00      0.00      0.00         1\n",
      "\n",
      "    accuracy                           0.86        74\n",
      "   macro avg       0.17      0.20      0.19        74\n",
      "weighted avg       0.75      0.86      0.80        74\n",
      "\n"
     ]
    },
    {
     "name": "stderr",
     "output_type": "stream",
     "text": [
      "/Users/tzuhan/opt/miniconda3/envs/capstone/lib/python3.9/site-packages/sklearn/metrics/_classification.py:1509: UndefinedMetricWarning: Precision is ill-defined and being set to 0.0 in labels with no predicted samples. Use `zero_division` parameter to control this behavior.\n",
      "  _warn_prf(average, modifier, f\"{metric.capitalize()} is\", len(result))\n",
      "/Users/tzuhan/opt/miniconda3/envs/capstone/lib/python3.9/site-packages/sklearn/metrics/_classification.py:1509: UndefinedMetricWarning: Precision is ill-defined and being set to 0.0 in labels with no predicted samples. Use `zero_division` parameter to control this behavior.\n",
      "  _warn_prf(average, modifier, f\"{metric.capitalize()} is\", len(result))\n",
      "/Users/tzuhan/opt/miniconda3/envs/capstone/lib/python3.9/site-packages/sklearn/metrics/_classification.py:1509: UndefinedMetricWarning: Precision is ill-defined and being set to 0.0 in labels with no predicted samples. Use `zero_division` parameter to control this behavior.\n",
      "  _warn_prf(average, modifier, f\"{metric.capitalize()} is\", len(result))\n"
     ]
    }
   ],
   "source": [
    "features = ['LATITUDE', 'LONGITUDE', 'SALINITY', 'WATER_TEMP', 'WIND_DIR', 'WIND_SPEED']\n",
    "X = df[features]\n",
    "y = df['category_encoded']\n",
    "\n",
    "# Standardize the features\n",
    "X_scaled = scaler.fit_transform(X)\n",
    "\n",
    "\n",
    "# Make predictions on the test data\n",
    "predictions = model.predict(X_scaled)\n",
    "# print(y)\n",
    "# print(y_pred)\n",
    "# Print the accuracy and classification report\n",
    "print(\"Accuracy:\", accuracy_score(y, predictions))\n",
    "print(classification_report(y, predictions, target_names=list(class_mapping.keys())))"
   ]
  }
 ],
 "metadata": {
  "kernelspec": {
   "display_name": "capstone",
   "language": "python",
   "name": "python3"
  },
  "language_info": {
   "codemirror_mode": {
    "name": "ipython",
    "version": 3
   },
   "file_extension": ".py",
   "mimetype": "text/x-python",
   "name": "python",
   "nbconvert_exporter": "python",
   "pygments_lexer": "ipython3",
   "version": "3.9.18"
  }
 },
 "nbformat": 4,
 "nbformat_minor": 2
}
