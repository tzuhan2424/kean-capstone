{
 "cells": [
  {
   "cell_type": "code",
   "execution_count": 8,
   "metadata": {},
   "outputs": [],
   "source": [
    "from NN.Net import Net\n",
    "import torch.nn as nn\n",
    "import torch\n",
    "from torch.utils.data import TensorDataset, DataLoader\n",
    "\n",
    "import pandas as pd\n",
    "from sklearn.model_selection import train_test_split\n",
    "from sklearn.metrics import accuracy_score, classification_report\n",
    "from sklearn.preprocessing import StandardScaler\n",
    "from sklearn.preprocessing import LabelEncoder\n",
    "\n",
    "from common.Database import Database"
   ]
  },
  {
   "cell_type": "code",
   "execution_count": 9,
   "metadata": {},
   "outputs": [],
   "source": [
    "db = Database()\n",
    "query = \"\"\"\n",
    "    select * \n",
    "    FROM habsos_j\n",
    "    WHERE LATITUDE IS NOT NULL and LONGITUDE IS NOT NULL\n",
    "    AND SAMPLE_DATE  IS NOT NULL\n",
    "    and CATEGORY  is not NULL\n",
    "    and SALINITY  is not NULL\n",
    "    and WATER_TEMP is not null\n",
    "    and WIND_DIR is not null \n",
    "    and WIND_SPEED is not null;\n",
    "\"\"\"\n",
    "records, columns = db.execute_query(query)\n",
    "db.close()\n",
    "df = pd.DataFrame(records, columns=columns)\n",
    "df['date'] = pd.to_datetime(df['SAMPLE_DATETIME'])\n",
    "df['month'] = df['date'].dt.month\n",
    "le = LabelEncoder()\n",
    "df['category_encoded'] = le.fit_transform(df['CATEGORY'])"
   ]
  },
  {
   "cell_type": "code",
   "execution_count": 10,
   "metadata": {},
   "outputs": [],
   "source": [
    "# Select features and target\n",
    "features = ['LATITUDE', 'LONGITUDE', 'SALINITY', 'WATER_TEMP', 'WIND_DIR', 'WIND_SPEED']\n",
    "X = df[features]\n",
    "y = df['category_encoded']\n",
    "\n",
    "# Split the data into training and test sets\n",
    "X_train, X_test, y_train, y_test = train_test_split(X, y, test_size=0.2, random_state=42)\n",
    "\n",
    "# Identify features to scale\n",
    "features_to_scale = ['SALINITY', 'WATER_TEMP', 'WIND_DIR', 'WIND_SPEED']\n",
    "scaler = StandardScaler()\n",
    "\n",
    "# Scale the features\n",
    "X_train_scaled = X_train.copy()\n",
    "X_test_scaled = X_test.copy()\n",
    "X_train_scaled[features_to_scale] = scaler.fit_transform(X_train[features_to_scale])\n",
    "X_test_scaled[features_to_scale] = scaler.transform(X_test[features_to_scale])\n",
    "\n",
    "# Convert the scaled data to NumPy arrays (if not already in that format)\n",
    "X_train_np = X_train_scaled.values\n",
    "X_test_np = X_test_scaled.values\n",
    "y_train_np = y_train.values\n",
    "y_test_np = y_test.values\n",
    "\n",
    "# Convert to PyTorch tensors\n",
    "X_train_tensor = torch.tensor(X_train_np, dtype=torch.float)\n",
    "X_test_tensor = torch.tensor(X_test_np, dtype=torch.float)\n",
    "y_train_tensor = torch.tensor(y_train_np, dtype=torch.long)\n",
    "y_test_tensor = torch.tensor(y_test_np, dtype=torch.long)\n",
    "\n",
    "\n",
    "train_dataset = TensorDataset(X_train_tensor, y_train_tensor)\n",
    "test_dataset = TensorDataset(X_test_tensor, y_test_tensor)\n",
    "\n",
    "batch_size = 64  \n",
    "train_loader = DataLoader(train_dataset, batch_size=batch_size, shuffle=True)\n",
    "test_loader = DataLoader(test_dataset, batch_size=batch_size, shuffle=True)\n"
   ]
  },
  {
   "cell_type": "code",
   "execution_count": 11,
   "metadata": {},
   "outputs": [],
   "source": [
    "input_size = 6\n",
    "num_classes = 5  \n",
    "model = Net(input_size, num_classes)\n",
    "\n",
    "# Loss and optimizer\n",
    "criterion = nn.CrossEntropyLoss()\n",
    "optimizer = torch.optim.Adam(model.parameters(), lr=0.0001)"
   ]
  },
  {
   "cell_type": "code",
   "execution_count": 13,
   "metadata": {},
   "outputs": [
    {
     "name": "stdout",
     "output_type": "stream",
     "text": [
      "Epoch [10/128], Loss: 0.8787\n",
      "Epoch [20/128], Loss: 0.5941\n",
      "Epoch [30/128], Loss: 0.6244\n",
      "Epoch [40/128], Loss: 0.6263\n",
      "Epoch [50/128], Loss: 0.5396\n",
      "Epoch [60/128], Loss: 0.3684\n",
      "Epoch [70/128], Loss: 0.6279\n",
      "Epoch [80/128], Loss: 0.5924\n",
      "Epoch [90/128], Loss: 0.5147\n",
      "Epoch [100/128], Loss: 0.6257\n",
      "Epoch [110/128], Loss: 0.6619\n",
      "Epoch [120/128], Loss: 0.6410\n"
     ]
    }
   ],
   "source": [
    "num_epochs=128\n",
    "for epoch in range(num_epochs):\n",
    "    for X_batch, y_batch in train_loader:\n",
    "        outputs = model(X_batch)\n",
    "        loss = criterion(outputs, y_batch)\n",
    "        optimizer.zero_grad()\n",
    "        loss.backward()\n",
    "        optimizer.step()\n",
    "\n",
    "    if (epoch+1) % 10 == 0:\n",
    "        print(f'Epoch [{epoch+1}/{num_epochs}], Loss: {loss.item():.4f}')\n",
    "\n"
   ]
  },
  {
   "cell_type": "code",
   "execution_count": 15,
   "metadata": {},
   "outputs": [
    {
     "name": "stdout",
     "output_type": "stream",
     "text": [
      "              precision    recall  f1-score   support\n",
      "\n",
      "           0       0.00      0.00      0.00        11\n",
      "           1       0.22      0.16      0.19        50\n",
      "           2       0.00      0.00      0.00        60\n",
      "           3       0.87      1.00      0.93      1274\n",
      "           4       0.00      0.00      0.00       107\n",
      "\n",
      "    accuracy                           0.85      1502\n",
      "   macro avg       0.22      0.23      0.22      1502\n",
      "weighted avg       0.74      0.85      0.79      1502\n",
      "\n"
     ]
    },
    {
     "name": "stderr",
     "output_type": "stream",
     "text": [
      "/Users/tzuhan/opt/miniconda3/envs/capstone/lib/python3.9/site-packages/sklearn/metrics/_classification.py:1509: UndefinedMetricWarning: Precision is ill-defined and being set to 0.0 in labels with no predicted samples. Use `zero_division` parameter to control this behavior.\n",
      "  _warn_prf(average, modifier, f\"{metric.capitalize()} is\", len(result))\n",
      "/Users/tzuhan/opt/miniconda3/envs/capstone/lib/python3.9/site-packages/sklearn/metrics/_classification.py:1509: UndefinedMetricWarning: Precision is ill-defined and being set to 0.0 in labels with no predicted samples. Use `zero_division` parameter to control this behavior.\n",
      "  _warn_prf(average, modifier, f\"{metric.capitalize()} is\", len(result))\n",
      "/Users/tzuhan/opt/miniconda3/envs/capstone/lib/python3.9/site-packages/sklearn/metrics/_classification.py:1509: UndefinedMetricWarning: Precision is ill-defined and being set to 0.0 in labels with no predicted samples. Use `zero_division` parameter to control this behavior.\n",
      "  _warn_prf(average, modifier, f\"{metric.capitalize()} is\", len(result))\n"
     ]
    }
   ],
   "source": [
    "# Collect all predictions and actual labels\n",
    "all_predictions = []\n",
    "all_labels = []\n",
    "\n",
    "with torch.no_grad():\n",
    "    for X_batch, y_batch in test_loader:\n",
    "        outputs = model(X_batch)\n",
    "        _, predicted = torch.max(outputs, 1)\n",
    "        all_predictions.extend(predicted.cpu().numpy())\n",
    "        all_labels.extend(y_batch.cpu().numpy())\n",
    "\n",
    "# Calculate classification metrics\n",
    "print(classification_report(all_labels, all_predictions))\n"
   ]
  }
 ],
 "metadata": {
  "kernelspec": {
   "display_name": "capstone",
   "language": "python",
   "name": "python3"
  },
  "language_info": {
   "codemirror_mode": {
    "name": "ipython",
    "version": 3
   },
   "file_extension": ".py",
   "mimetype": "text/x-python",
   "name": "python",
   "nbconvert_exporter": "python",
   "pygments_lexer": "ipython3",
   "version": "3.9.18"
  }
 },
 "nbformat": 4,
 "nbformat_minor": 2
}
