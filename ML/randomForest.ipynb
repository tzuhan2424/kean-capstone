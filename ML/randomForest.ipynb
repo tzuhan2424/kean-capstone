{
 "cells": [
  {
   "cell_type": "code",
   "execution_count": 13,
   "metadata": {},
   "outputs": [],
   "source": [
    "import pandas as pd\n",
    "from sklearn.ensemble import RandomForestClassifier\n",
    "from sklearn.model_selection import train_test_split\n",
    "from sklearn.metrics import accuracy_score, classification_report\n",
    "from sklearn.preprocessing import StandardScaler\n",
    "from sklearn.preprocessing import LabelEncoder\n",
    "\n",
    "from common.Database import Database\n",
    "import joblib\n",
    "\n"
   ]
  },
  {
   "cell_type": "code",
   "execution_count": 14,
   "metadata": {},
   "outputs": [],
   "source": [
    "db = Database()\n",
    "query = \"\"\"\n",
    "    select * \n",
    "    FROM habsos_j\n",
    "    WHERE LATITUDE IS NOT NULL and LONGITUDE IS NOT NULL\n",
    "    AND SAMPLE_DATE  IS NOT NULL\n",
    "    and CATEGORY  is not NULL\n",
    "    and SALINITY  is not NULL\n",
    "    and WATER_TEMP is not null\n",
    "    and WIND_DIR is not null \n",
    "    and WIND_SPEED is not null;\n",
    "\"\"\"\n",
    "records, columns = db.execute_query(query)\n",
    "db.close()\n",
    "df = pd.DataFrame(records, columns=columns)\n",
    "df['date'] = pd.to_datetime(df['SAMPLE_DATETIME'])\n",
    "df['month'] = df['date'].dt.month\n",
    "\n",
    "class_mapping = {\n",
    "    'not observed': 0,\n",
    "    'very low': 1,\n",
    "    'low': 2,\n",
    "    'medium': 3,\n",
    "    'high': 4\n",
    "}\n",
    "\n",
    "df['category_encoded'] = df['CATEGORY'].map(class_mapping)\n"
   ]
  },
  {
   "cell_type": "code",
   "execution_count": 15,
   "metadata": {},
   "outputs": [
    {
     "name": "stdout",
     "output_type": "stream",
     "text": [
      "Accuracy: 0.8661784287616512\n",
      "              precision    recall  f1-score   support\n",
      "\n",
      "not observed       0.89      0.99      0.93      1274\n",
      "    very low       0.27      0.07      0.12       107\n",
      "         low       0.43      0.24      0.31        50\n",
      "      medium       0.85      0.37      0.51        60\n",
      "        high       0.75      0.27      0.40        11\n",
      "\n",
      "    accuracy                           0.87      1502\n",
      "   macro avg       0.64      0.39      0.45      1502\n",
      "weighted avg       0.83      0.87      0.83      1502\n",
      "\n"
     ]
    }
   ],
   "source": [
    "features = ['LATITUDE', 'LONGITUDE', 'SALINITY', 'WATER_TEMP', 'WIND_DIR', 'WIND_SPEED']\n",
    "X = df[features]\n",
    "y = df['category_encoded']\n",
    "\n",
    "# Split the dataset into training and test sets\n",
    "X_train, X_test, y_train, y_test = train_test_split(X, y, test_size=0.2, random_state=42)\n",
    "\n",
    "# Standardize the features\n",
    "scaler = StandardScaler()\n",
    "X_train_scaled = scaler.fit_transform(X_train)\n",
    "X_test_scaled = scaler.transform(X_test)\n",
    "\n",
    "# Initialize the Random Forest classifier\n",
    "# 'balanced' mode uses the values of y to automatically adjust weights inversely proportional to class frequencies\n",
    "rf = RandomForestClassifier(n_estimators=500, class_weight='balanced', random_state=42)\n",
    "\n",
    "# Fit the model on the training data\n",
    "rf.fit(X_train_scaled, y_train)\n",
    "\n",
    "# Make predictions on the test data\n",
    "y_pred = rf.predict(X_test_scaled)\n",
    "\n",
    "\n",
    "\n",
    "# Print the accuracy and classification report\n",
    "print(\"Accuracy:\", accuracy_score(y_test, y_pred))\n",
    "print(classification_report(y_test, y_pred, target_names=list(class_mapping.keys())))\n"
   ]
  },
  {
   "cell_type": "code",
   "execution_count": 16,
   "metadata": {},
   "outputs": [
    {
     "name": "stdout",
     "output_type": "stream",
     "text": [
      "scaler is save\n",
      "Model saved to random_forest_model.joblib\n"
     ]
    }
   ],
   "source": [
    "# Save the scaler\n",
    "scaler_filename = 'scaler.joblib'\n",
    "joblib.dump(scaler, scaler_filename)\n",
    "print(\"scaler is save\")\n",
    "# Save the model to a file\n",
    "model_filename = 'random_forest_model.joblib'\n",
    "joblib.dump(rf, model_filename)\n",
    "\n",
    "print(f\"Model saved to {model_filename}\")"
   ]
  }
 ],
 "metadata": {
  "kernelspec": {
   "display_name": "capstone",
   "language": "python",
   "name": "python3"
  },
  "language_info": {
   "codemirror_mode": {
    "name": "ipython",
    "version": 3
   },
   "file_extension": ".py",
   "mimetype": "text/x-python",
   "name": "python",
   "nbconvert_exporter": "python",
   "pygments_lexer": "ipython3",
   "version": "3.9.18"
  }
 },
 "nbformat": 4,
 "nbformat_minor": 2
}
