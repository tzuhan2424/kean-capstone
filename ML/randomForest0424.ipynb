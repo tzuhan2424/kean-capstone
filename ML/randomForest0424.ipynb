{
 "cells": [
  {
   "cell_type": "code",
   "execution_count": 15,
   "metadata": {},
   "outputs": [],
   "source": [
    "import pandas as pd\n",
    "from sklearn.ensemble import RandomForestClassifier\n",
    "from sklearn.model_selection import train_test_split\n",
    "from sklearn.metrics import accuracy_score, classification_report\n",
    "from sklearn.preprocessing import StandardScaler\n",
    "from sklearn.preprocessing import LabelEncoder\n",
    "\n",
    "from common.Database import Database\n",
    "import joblib"
   ]
  },
  {
   "cell_type": "code",
   "execution_count": 16,
   "metadata": {},
   "outputs": [],
   "source": [
    "db = Database()\n",
    "query = \"\"\"\n",
    "    select * \n",
    "    FROM habsos_j\n",
    "    WHERE LATITUDE IS NOT NULL and LONGITUDE IS NOT NULL\n",
    "    and CATEGORY  is not NULL\n",
    "    and SALINITY  is not NULL\n",
    "    and WATER_TEMP is not null\n",
    "    and SAMPLE_DATETIME < '2023-01-01 00:00:00';\n",
    "\"\"\"\n",
    "records, columns = db.execute_query(query)\n",
    "db.close()\n",
    "df = pd.DataFrame(records, columns=columns)\n",
    "df['date'] = pd.to_datetime(df['SAMPLE_DATETIME'])\n",
    "df['month'] = df['date'].dt.month\n",
    "\n",
    "class_mapping = {\n",
    "    'not observed': 0,\n",
    "    'very low': 1,\n",
    "    'low': 2,\n",
    "    'medium': 3,\n",
    "    'high': 4\n",
    "}\n",
    "\n",
    "df['category_encoded'] = df['CATEGORY'].map(class_mapping)"
   ]
  },
  {
   "cell_type": "code",
   "execution_count": 17,
   "metadata": {},
   "outputs": [
    {
     "name": "stdout",
     "output_type": "stream",
     "text": [
      "Accuracy: 0.8084755090809026\n",
      "              precision    recall  f1-score   support\n",
      "\n",
      "not observed       0.86      0.95      0.90     14779\n",
      "    very low       0.33      0.14      0.19      1457\n",
      "         low       0.33      0.17      0.23       975\n",
      "      medium       0.34      0.23      0.28       743\n",
      "        high       0.35      0.16      0.22       216\n",
      "\n",
      "    accuracy                           0.81     18170\n",
      "   macro avg       0.44      0.33      0.36     18170\n",
      "weighted avg       0.76      0.81      0.78     18170\n",
      "\n"
     ]
    }
   ],
   "source": [
    "features = ['LATITUDE', 'LONGITUDE', 'SALINITY', 'WATER_TEMP']\n",
    "X = df[features]\n",
    "y = df['category_encoded']\n",
    "\n",
    "# Split the dataset into training and test sets\n",
    "X_train, X_test, y_train, y_test = train_test_split(X, y, test_size=0.2, random_state=42)\n",
    "\n",
    "# Standardize the features\n",
    "scaler = StandardScaler()\n",
    "X_train_scaled = scaler.fit_transform(X_train)\n",
    "X_test_scaled = scaler.transform(X_test)\n",
    "\n",
    "# Initialize the Random Forest classifier\n",
    "# 'balanced' mode uses the values of y to automatically adjust weights inversely proportional to class frequencies\n",
    "rf = RandomForestClassifier(n_estimators=800, class_weight='balanced', random_state=42)\n",
    "\n",
    "# Fit the model on the training data\n",
    "rf.fit(X_train_scaled, y_train)\n",
    "\n",
    "# Make predictions on the test data\n",
    "y_pred = rf.predict(X_test_scaled)\n",
    "\n",
    "\n",
    "\n",
    "# Print the accuracy and classification report\n",
    "print(\"Accuracy:\", accuracy_score(y_test, y_pred))\n",
    "print(classification_report(y_test, y_pred, target_names=list(class_mapping.keys())))"
   ]
  },
  {
   "cell_type": "code",
   "execution_count": 18,
   "metadata": {},
   "outputs": [
    {
     "name": "stdout",
     "output_type": "stream",
     "text": [
      "scaler is save\n",
      "Model saved to random_forest_model-0424.joblib\n"
     ]
    }
   ],
   "source": [
    "# Save the scaler\n",
    "scaler_filename = 'scaler-0424.joblib'\n",
    "joblib.dump(scaler, scaler_filename)\n",
    "print(\"scaler is save\")\n",
    "# Save the model to a file\n",
    "model_filename = 'random_forest_model-0424.joblib'\n",
    "joblib.dump(rf, model_filename)\n",
    "\n",
    "print(f\"Model saved to {model_filename}\")"
   ]
  },
  {
   "cell_type": "markdown",
   "metadata": {},
   "source": [
    "## use 2023 data to do another test"
   ]
  },
  {
   "cell_type": "code",
   "execution_count": 19,
   "metadata": {},
   "outputs": [],
   "source": [
    "model_filename = 'random_forest_model-0424.joblib'\n",
    "model = joblib.load(model_filename)\n",
    "scaler_filename = 'scaler-0424.joblib'\n",
    "scaler = joblib.load(scaler_filename)"
   ]
  },
  {
   "cell_type": "code",
   "execution_count": 20,
   "metadata": {},
   "outputs": [],
   "source": [
    "\n",
    "db = Database()\n",
    "\n",
    "query = \"\"\"\n",
    "    select * \n",
    "    FROM habsos_j\n",
    "    WHERE LATITUDE IS NOT NULL and LONGITUDE IS NOT NULL\n",
    "    and CATEGORY  is not NULL\n",
    "    and SALINITY  is not NULL\n",
    "    and WATER_TEMP is not null\n",
    "    and SAMPLE_DATETIME > '2023-01-01 00:00:00'\n",
    "    and SAMPLE_DATETIME < '2023-12-31 23:59:59';\n",
    "\"\"\"\n",
    "records, columns = db.execute_query(query)\n",
    "db.close()\n",
    "df = pd.DataFrame(records, columns=columns)\n",
    "df['date'] = pd.to_datetime(df['SAMPLE_DATETIME'])\n",
    "df['month'] = df['date'].dt.month\n",
    "\n",
    "class_mapping = {\n",
    "    'not observed': 0,\n",
    "    'very low': 1,\n",
    "    'low': 2,\n",
    "    'medium': 3,\n",
    "    'high': 4\n",
    "}\n",
    "\n",
    "df['category_encoded'] = df['CATEGORY'].map(class_mapping)"
   ]
  },
  {
   "cell_type": "code",
   "execution_count": 21,
   "metadata": {},
   "outputs": [
    {
     "name": "stdout",
     "output_type": "stream",
     "text": [
      "Accuracy: 0.8331409727947239\n",
      "              precision    recall  f1-score   support\n",
      "\n",
      "not observed       0.85      0.98      0.91      5152\n",
      "    very low       0.15      0.01      0.02       441\n",
      "         low       0.00      0.00      0.00       243\n",
      "      medium       0.07      0.02      0.03       185\n",
      "        high       0.00      0.00      0.00        44\n",
      "\n",
      "    accuracy                           0.83      6065\n",
      "   macro avg       0.21      0.20      0.19      6065\n",
      "weighted avg       0.73      0.83      0.77      6065\n",
      "\n"
     ]
    }
   ],
   "source": [
    "features = ['LATITUDE', 'LONGITUDE', 'SALINITY', 'WATER_TEMP']\n",
    "X = df[features]\n",
    "y = df['category_encoded']\n",
    "\n",
    "# Standardize the features\n",
    "X_scaled = scaler.fit_transform(X)\n",
    "\n",
    "\n",
    "# Make predictions on the test data\n",
    "predictions = model.predict(X_scaled)\n",
    "# print(y)\n",
    "# print(y_pred)\n",
    "# Print the accuracy and classification report\n",
    "print(\"Accuracy:\", accuracy_score(y, predictions))\n",
    "print(classification_report(y, predictions, target_names=list(class_mapping.keys())))"
   ]
  }
 ],
 "metadata": {
  "kernelspec": {
   "display_name": "capstone",
   "language": "python",
   "name": "python3"
  },
  "language_info": {
   "codemirror_mode": {
    "name": "ipython",
    "version": 3
   },
   "file_extension": ".py",
   "mimetype": "text/x-python",
   "name": "python",
   "nbconvert_exporter": "python",
   "pygments_lexer": "ipython3",
   "version": "3.9.18"
  }
 },
 "nbformat": 4,
 "nbformat_minor": 2
}
